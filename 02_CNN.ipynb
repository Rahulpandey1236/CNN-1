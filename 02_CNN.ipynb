{
 "cells": [
  {
   "cell_type": "code",
   "execution_count": null,
   "id": "a593cdb8",
   "metadata": {},
   "outputs": [],
   "source": [
    "## CNN on mnist datastets \n",
    "\n",
    "import tensorflow as tf\n",
    "from tensorflow.keras.datasets import mnist\n",
    "from tensorflow.keras.models import Sequential\n",
    "from tensorflow.keras.layers import Conv2D, MaxPooling2D, Flatten, Dense, Dropout\n",
    "from tensorflow.keras.utils import to_categorical\n",
    "import matplotlib.pyplot as plt"
   ]
  },
  {
   "cell_type": "code",
   "execution_count": null,
   "id": "fded818d",
   "metadata": {},
   "outputs": [],
   "source": [
    "from tensorflow.keras.datasets import mnist\n",
    "(x_train , y_train) , (x_test , y_test) = mnist.load_data()\n",
    "print(len(x_train))\n",
    "print(len(x_test))"
   ]
  },
  {
   "cell_type": "code",
   "execution_count": null,
   "id": "eabe96b3",
   "metadata": {},
   "outputs": [],
   "source": [
    "import matplotlib.pyplot as plt \n",
    "%matplotlib inline \n",
    "import matplotlib.cm as cm\n",
    "import numpy as np\n",
    "\n",
    "## plot first six trainig images\n",
    "fig = plt.figure(figsize = (20,20))\n",
    "for i in range(6):\n",
    "  ax = fig.add_subplot(1,6,i+1,xticks = [] , yticks = [])\n",
    "  ax.imshow(x_train[i] , cmap = 'gray')\n",
    "  ax.set_title(str(y_train[i]))"
   ]
  },
  {
   "cell_type": "code",
   "execution_count": null,
   "id": "4eea78d2",
   "metadata": {},
   "outputs": [],
   "source": [
    "def visualize_input(img, ax):\n",
    "    ax.imshow(img, cmap='gray')\n",
    "    width, height = img.shape\n",
    "    thresh = img.max()/2.5\n",
    "    for x in range(width):\n",
    "        for y in range(height):\n",
    "            ax.annotate(str(round(img[x][y],2)), xy=(y,x),\n",
    "                        horizontalalignment='center',\n",
    "                        verticalalignment='center',\n",
    "                        color='white' if img[x][y]<thresh else 'black')\n",
    "\n",
    "fig = plt.figure(figsize = (12,12))\n",
    "ax = fig.add_subplot(111)\n",
    "visualize_input(x_train[0], ax)"
   ]
  },
  {
   "cell_type": "code",
   "execution_count": null,
   "id": "6c94b672",
   "metadata": {},
   "outputs": [],
   "source": [
    "#Reshape (28x28 -> 28x28x1 for CNN input)\n",
    "x_train = x_train.reshape(x_train.shape[0] , 28,28,1)\n",
    "x_test = x_test.reshape(x_test.shape[0] , 28,28,1)"
   ]
  },
  {
   "cell_type": "code",
   "execution_count": null,
   "id": "51e34c24",
   "metadata": {},
   "outputs": [],
   "source": [
    "x_train.shape , x_test.shape"
   ]
  },
  {
   "cell_type": "code",
   "execution_count": null,
   "id": "e1b0cc19",
   "metadata": {},
   "outputs": [],
   "source": [
    "# Normalize pixel values (0-255 → 0-1)\n",
    "x_train = x_train.astype('float32')/255\n",
    "x_test = x_test.astype('float32')/255"
   ]
  },
  {
   "cell_type": "code",
   "execution_count": null,
   "id": "f713d371",
   "metadata": {},
   "outputs": [],
   "source": [
    "## one hot encoding \n",
    "y_train = to_categorical(y_train,10)\n",
    "y_test = to_categorical(y_test,10)"
   ]
  },
  {
   "cell_type": "code",
   "execution_count": null,
   "id": "90a24437",
   "metadata": {},
   "outputs": [],
   "source": [
    "# build the model object\n",
    "model = Sequential()\n",
    "\n",
    "# CONV_1: add CONV layer with RELU activation and depth = 32 kernels\n",
    "model.add(Conv2D(32, kernel_size=(3, 3), padding='same',activation='relu',input_shape=(28,28,1)))\n",
    "# POOL_1: downsample the image to choose the best features\n",
    "model.add(MaxPooling2D(pool_size=(2, 2)))\n",
    "\n",
    "# CONV_2: here we increase the depth to 64\n",
    "model.add(Conv2D(64, (3, 3),padding='same', activation='relu'))\n",
    "# POOL_2: more downsampling\n",
    "model.add(MaxPooling2D(pool_size=(2, 2)))\n",
    "\n",
    "# flatten since too many dimensions, we only want a classification output\n",
    "model.add(Flatten())\n",
    "\n",
    "# FC_1: fully connected to get all relevant data\n",
    "model.add(Dense(64, activation='relu'))\n",
    "\n",
    "# FC_2: output a softmax to squash the matrix into output probabilities for the 10 classes\n",
    "model.add(Dense(10, activation='softmax'))\n",
    "\n",
    "model.summary()"
   ]
  },
  {
   "cell_type": "code",
   "execution_count": null,
   "id": "d9f08314",
   "metadata": {},
   "outputs": [],
   "source": [
    "# compile the model\n",
    "model.compile(loss='categorical_crossentropy', optimizer='rmsprop',\n",
    "              metrics=['accuracy'])"
   ]
  },
  {
   "cell_type": "code",
   "execution_count": null,
   "id": "df69bdac",
   "metadata": {},
   "outputs": [],
   "source": [
    "checkpointer = ModelCheckpoint(filepath='model.best.weights.h5', \n",
    "                               verbose=1,\n",
    "                               save_best_only=True,\n",
    "                               save_weights_only=True)\n",
    "\n",
    "hist = model.fit(x_train, y_train, batch_size=64, epochs=10,\n",
    "          validation_data=(x_test, y_test), callbacks=[checkpointer],\n",
    "          verbose=2, shuffle=True)\n"
   ]
  },
  {
   "cell_type": "code",
   "execution_count": null,
   "id": "a586c8b8",
   "metadata": {},
   "outputs": [],
   "source": [
    "# load the weights that yielded the best validation accuracy\n",
    "model.load_weights('model.weights.best.hdf5')"
   ]
  },
  {
   "cell_type": "code",
   "execution_count": null,
   "id": "94809579",
   "metadata": {},
   "outputs": [],
   "source": [
    "# evaluate test accuracy\n",
    "score = model.evaluate(X_test, y_test, verbose=0)\n",
    "accuracy = 100*score[1]\n",
    "\n",
    "# print test accuracy\n",
    "print('Test accuracy: %.4f%%' % accuracy)"
   ]
  }
 ],
 "metadata": {
  "kernelspec": {
   "display_name": "base",
   "language": "python",
   "name": "python3"
  },
  "language_info": {
   "codemirror_mode": {
    "name": "ipython",
    "version": 3
   },
   "file_extension": ".py",
   "mimetype": "text/x-python",
   "name": "python",
   "nbconvert_exporter": "python",
   "pygments_lexer": "ipython3",
   "version": "3.12.7"
  }
 },
 "nbformat": 4,
 "nbformat_minor": 5
}
